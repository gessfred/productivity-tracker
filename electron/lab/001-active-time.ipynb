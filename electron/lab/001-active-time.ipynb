{
 "cells": [
  {
   "cell_type": "raw",
   "id": "46036ce3-21d1-4301-93d6-d04eeb833b68",
   "metadata": {},
   "source": [
    "nikita bier talk\n",
    "chris lattner podcast\n",
    "elon musk podcast"
   ]
  },
  {
   "cell_type": "raw",
   "id": "9180cf0d-0c85-4a11-b80c-784378703359",
   "metadata": {},
   "source": [
    "todo \n",
    "prove that the interval computation work\n",
    "compute active time in a reliable way"
   ]
  },
  {
   "cell_type": "code",
   "execution_count": 71,
   "id": "0ed0d38a-dbaf-49c1-973a-07dc10a085bf",
   "metadata": {},
   "outputs": [
    {
     "name": "stdout",
     "output_type": "stream",
     "text": [
      "Requirement already satisfied: numpy in ./.lab/lib/python3.9/site-packages (2.0.1)\n",
      "Collecting pandas\n",
      "  Using cached pandas-2.2.2-cp39-cp39-macosx_11_0_arm64.whl (11.3 MB)\n",
      "Requirement already satisfied: python-dateutil>=2.8.2 in ./.lab/lib/python3.9/site-packages (from pandas) (2.9.0.post0)\n",
      "Collecting tzdata>=2022.7\n",
      "  Using cached tzdata-2024.1-py2.py3-none-any.whl (345 kB)\n",
      "Collecting pytz>=2020.1\n",
      "  Using cached pytz-2024.1-py2.py3-none-any.whl (505 kB)\n",
      "Requirement already satisfied: six>=1.5 in ./.lab/lib/python3.9/site-packages (from python-dateutil>=2.8.2->pandas) (1.16.0)\n",
      "Installing collected packages: tzdata, pytz, pandas\n",
      "Successfully installed pandas-2.2.2 pytz-2024.1 tzdata-2024.1\n",
      "\u001b[33mWARNING: You are using pip version 21.2.4; however, version 24.2 is available.\n",
      "You should consider upgrading via the '/Users/fredericgessler/Documents/bootstrap/hotkey-client/lab/.lab/bin/python3 -m pip install --upgrade pip' command.\u001b[0m\n"
     ]
    }
   ],
   "source": [
    "!pip install numpy pandas "
   ]
  },
  {
   "cell_type": "code",
   "execution_count": 1,
   "id": "f87fbb4f-f2a4-488a-acfb-4fee4e62fdfd",
   "metadata": {},
   "outputs": [],
   "source": [
    "import duckdb"
   ]
  },
  {
   "cell_type": "code",
   "execution_count": 67,
   "id": "78ec6656-2514-4a29-a26a-c99b98308d75",
   "metadata": {},
   "outputs": [
    {
     "data": {
      "text/plain": [
       "┌────────────────────────────┬────────────────────────────┐\n",
       "│     current_timestamp      │           now()            │\n",
       "│  timestamp with time zone  │  timestamp with time zone  │\n",
       "├────────────────────────────┼────────────────────────────┤\n",
       "│ 2024-08-04 16:18:47.169+02 │ 2024-08-04 16:18:47.169+02 │\n",
       "└────────────────────────────┴────────────────────────────┘"
      ]
     },
     "execution_count": 67,
     "metadata": {},
     "output_type": "execute_result"
    }
   ],
   "source": [
    "duckdb.sql(\"select current_timestamp, now()\")"
   ]
  },
  {
   "cell_type": "code",
   "execution_count": 78,
   "id": "8280e8d6-d286-4bb2-90b7-73a2eeb8bf09",
   "metadata": {},
   "outputs": [
    {
     "data": {
      "text/html": [
       "<div>\n",
       "<style scoped>\n",
       "    .dataframe tbody tr th:only-of-type {\n",
       "        vertical-align: middle;\n",
       "    }\n",
       "\n",
       "    .dataframe tbody tr th {\n",
       "        vertical-align: top;\n",
       "    }\n",
       "\n",
       "    .dataframe thead th {\n",
       "        text-align: right;\n",
       "    }\n",
       "</style>\n",
       "<table border=\"1\" class=\"dataframe\">\n",
       "  <thead>\n",
       "    <tr style=\"text-align: right;\">\n",
       "      <th></th>\n",
       "      <th>Timestamp</th>\n",
       "      <th>Interval_ns</th>\n",
       "      <th>SeqNum</th>\n",
       "      <th>App</th>\n",
       "      <th>Category</th>\n",
       "      <th>CAST(\"timestamp\" AS TIMESTAMP WITH TIME ZONE)</th>\n",
       "      <th>timezone('Europe/Zurich', CAST(\"timestamp\" AS TIMESTAMP WITH TIME ZONE))</th>\n",
       "    </tr>\n",
       "  </thead>\n",
       "  <tbody>\n",
       "    <tr>\n",
       "      <th>0</th>\n",
       "      <td>2024-08-04 14:58:56.972</td>\n",
       "      <td>1258007</td>\n",
       "      <td>0</td>\n",
       "      <td>Google Chrome</td>\n",
       "      <td>Default</td>\n",
       "      <td>2024-08-04 14:58:56.972000+02:00</td>\n",
       "      <td>2024-08-04 14:58:56.972</td>\n",
       "    </tr>\n",
       "    <tr>\n",
       "      <th>1</th>\n",
       "      <td>2024-08-04 14:58:56.920</td>\n",
       "      <td>1058115</td>\n",
       "      <td>0</td>\n",
       "      <td>Google Chrome</td>\n",
       "      <td>Default</td>\n",
       "      <td>2024-08-04 14:58:56.920000+02:00</td>\n",
       "      <td>2024-08-04 14:58:56.920</td>\n",
       "    </tr>\n",
       "    <tr>\n",
       "      <th>2</th>\n",
       "      <td>2024-08-04 14:58:56.876</td>\n",
       "      <td>482365</td>\n",
       "      <td>0</td>\n",
       "      <td>Google Chrome</td>\n",
       "      <td>Alphanumeric</td>\n",
       "      <td>2024-08-04 14:58:56.876000+02:00</td>\n",
       "      <td>2024-08-04 14:58:56.876</td>\n",
       "    </tr>\n",
       "    <tr>\n",
       "      <th>3</th>\n",
       "      <td>2024-08-04 14:58:56.856</td>\n",
       "      <td>1538475</td>\n",
       "      <td>0</td>\n",
       "      <td>Google Chrome</td>\n",
       "      <td>Default</td>\n",
       "      <td>2024-08-04 14:58:56.856000+02:00</td>\n",
       "      <td>2024-08-04 14:58:56.856</td>\n",
       "    </tr>\n",
       "    <tr>\n",
       "      <th>4</th>\n",
       "      <td>2024-08-04 14:58:56.792</td>\n",
       "      <td>254548</td>\n",
       "      <td>0</td>\n",
       "      <td>Google Chrome</td>\n",
       "      <td>Alphanumeric</td>\n",
       "      <td>2024-08-04 14:58:56.792000+02:00</td>\n",
       "      <td>2024-08-04 14:58:56.792</td>\n",
       "    </tr>\n",
       "    <tr>\n",
       "      <th>5</th>\n",
       "      <td>2024-08-04 14:58:56.781</td>\n",
       "      <td>2585855</td>\n",
       "      <td>0</td>\n",
       "      <td>Google Chrome</td>\n",
       "      <td>Alphanumeric</td>\n",
       "      <td>2024-08-04 14:58:56.781000+02:00</td>\n",
       "      <td>2024-08-04 14:58:56.781</td>\n",
       "    </tr>\n",
       "    <tr>\n",
       "      <th>6</th>\n",
       "      <td>2024-08-04 14:58:56.673</td>\n",
       "      <td>2124024</td>\n",
       "      <td>0</td>\n",
       "      <td>Google Chrome</td>\n",
       "      <td>Default</td>\n",
       "      <td>2024-08-04 14:58:56.673000+02:00</td>\n",
       "      <td>2024-08-04 14:58:56.673</td>\n",
       "    </tr>\n",
       "    <tr>\n",
       "      <th>7</th>\n",
       "      <td>2024-08-04 14:58:56.585</td>\n",
       "      <td>2379114</td>\n",
       "      <td>0</td>\n",
       "      <td>Google Chrome</td>\n",
       "      <td>Alphanumeric</td>\n",
       "      <td>2024-08-04 14:58:56.585000+02:00</td>\n",
       "      <td>2024-08-04 14:58:56.585</td>\n",
       "    </tr>\n",
       "    <tr>\n",
       "      <th>8</th>\n",
       "      <td>2024-08-04 14:58:56.486</td>\n",
       "      <td>2227982</td>\n",
       "      <td>0</td>\n",
       "      <td>Google Chrome</td>\n",
       "      <td>Default</td>\n",
       "      <td>2024-08-04 14:58:56.486000+02:00</td>\n",
       "      <td>2024-08-04 14:58:56.486</td>\n",
       "    </tr>\n",
       "    <tr>\n",
       "      <th>9</th>\n",
       "      <td>2024-08-04 14:58:56.393</td>\n",
       "      <td>2444880</td>\n",
       "      <td>0</td>\n",
       "      <td>Google Chrome</td>\n",
       "      <td>Alphanumeric</td>\n",
       "      <td>2024-08-04 14:58:56.393000+02:00</td>\n",
       "      <td>2024-08-04 14:58:56.393</td>\n",
       "    </tr>\n",
       "    <tr>\n",
       "      <th>10</th>\n",
       "      <td>2024-08-04 14:58:56.291</td>\n",
       "      <td>1697047</td>\n",
       "      <td>0</td>\n",
       "      <td>Google Chrome</td>\n",
       "      <td>Default</td>\n",
       "      <td>2024-08-04 14:58:56.291000+02:00</td>\n",
       "      <td>2024-08-04 14:58:56.291</td>\n",
       "    </tr>\n",
       "    <tr>\n",
       "      <th>11</th>\n",
       "      <td>2024-08-04 14:58:56.220</td>\n",
       "      <td>827994</td>\n",
       "      <td>0</td>\n",
       "      <td>Google Chrome</td>\n",
       "      <td>Default</td>\n",
       "      <td>2024-08-04 14:58:56.220000+02:00</td>\n",
       "      <td>2024-08-04 14:58:56.220</td>\n",
       "    </tr>\n",
       "    <tr>\n",
       "      <th>12</th>\n",
       "      <td>2024-08-04 14:58:56.186</td>\n",
       "      <td>857715</td>\n",
       "      <td>0</td>\n",
       "      <td>Google Chrome</td>\n",
       "      <td>Alphanumeric</td>\n",
       "      <td>2024-08-04 14:58:56.186000+02:00</td>\n",
       "      <td>2024-08-04 14:58:56.186</td>\n",
       "    </tr>\n",
       "    <tr>\n",
       "      <th>13</th>\n",
       "      <td>2024-08-04 14:58:56.150</td>\n",
       "      <td>2017852</td>\n",
       "      <td>0</td>\n",
       "      <td>Google Chrome</td>\n",
       "      <td>Default</td>\n",
       "      <td>2024-08-04 14:58:56.150000+02:00</td>\n",
       "      <td>2024-08-04 14:58:56.150</td>\n",
       "    </tr>\n",
       "    <tr>\n",
       "      <th>14</th>\n",
       "      <td>2024-08-04 14:58:56.066</td>\n",
       "      <td>1064116</td>\n",
       "      <td>0</td>\n",
       "      <td>Google Chrome</td>\n",
       "      <td>Alphanumeric</td>\n",
       "      <td>2024-08-04 14:58:56.066000+02:00</td>\n",
       "      <td>2024-08-04 14:58:56.066</td>\n",
       "    </tr>\n",
       "    <tr>\n",
       "      <th>15</th>\n",
       "      <td>2024-08-04 14:58:56.022</td>\n",
       "      <td>1108934</td>\n",
       "      <td>0</td>\n",
       "      <td>Google Chrome</td>\n",
       "      <td>Alphanumeric</td>\n",
       "      <td>2024-08-04 14:58:56.022000+02:00</td>\n",
       "      <td>2024-08-04 14:58:56.022</td>\n",
       "    </tr>\n",
       "    <tr>\n",
       "      <th>16</th>\n",
       "      <td>2024-08-04 14:58:55.976</td>\n",
       "      <td>2316141</td>\n",
       "      <td>0</td>\n",
       "      <td>Google Chrome</td>\n",
       "      <td>Default</td>\n",
       "      <td>2024-08-04 14:58:55.976000+02:00</td>\n",
       "      <td>2024-08-04 14:58:55.976</td>\n",
       "    </tr>\n",
       "    <tr>\n",
       "      <th>17</th>\n",
       "      <td>2024-08-04 14:58:55.879</td>\n",
       "      <td>221017560</td>\n",
       "      <td>0</td>\n",
       "      <td>Google Chrome</td>\n",
       "      <td>Alphanumeric</td>\n",
       "      <td>2024-08-04 14:58:55.879000+02:00</td>\n",
       "      <td>2024-08-04 14:58:55.879</td>\n",
       "    </tr>\n",
       "    <tr>\n",
       "      <th>18</th>\n",
       "      <td>2024-08-04 14:58:46.670</td>\n",
       "      <td>2339849</td>\n",
       "      <td>0</td>\n",
       "      <td>Google Chrome</td>\n",
       "      <td>Default</td>\n",
       "      <td>2024-08-04 14:58:46.670000+02:00</td>\n",
       "      <td>2024-08-04 14:58:46.670</td>\n",
       "    </tr>\n",
       "    <tr>\n",
       "      <th>19</th>\n",
       "      <td>2024-08-04 14:58:46.573</td>\n",
       "      <td>7572383</td>\n",
       "      <td>0</td>\n",
       "      <td>Google Chrome</td>\n",
       "      <td>Enter</td>\n",
       "      <td>2024-08-04 14:58:46.573000+02:00</td>\n",
       "      <td>2024-08-04 14:58:46.573</td>\n",
       "    </tr>\n",
       "  </tbody>\n",
       "</table>\n",
       "</div>"
      ],
      "text/plain": [
       "                 Timestamp  Interval_ns  SeqNum            App      Category  \\\n",
       "0  2024-08-04 14:58:56.972      1258007       0  Google Chrome       Default   \n",
       "1  2024-08-04 14:58:56.920      1058115       0  Google Chrome       Default   \n",
       "2  2024-08-04 14:58:56.876       482365       0  Google Chrome  Alphanumeric   \n",
       "3  2024-08-04 14:58:56.856      1538475       0  Google Chrome       Default   \n",
       "4  2024-08-04 14:58:56.792       254548       0  Google Chrome  Alphanumeric   \n",
       "5  2024-08-04 14:58:56.781      2585855       0  Google Chrome  Alphanumeric   \n",
       "6  2024-08-04 14:58:56.673      2124024       0  Google Chrome       Default   \n",
       "7  2024-08-04 14:58:56.585      2379114       0  Google Chrome  Alphanumeric   \n",
       "8  2024-08-04 14:58:56.486      2227982       0  Google Chrome       Default   \n",
       "9  2024-08-04 14:58:56.393      2444880       0  Google Chrome  Alphanumeric   \n",
       "10 2024-08-04 14:58:56.291      1697047       0  Google Chrome       Default   \n",
       "11 2024-08-04 14:58:56.220       827994       0  Google Chrome       Default   \n",
       "12 2024-08-04 14:58:56.186       857715       0  Google Chrome  Alphanumeric   \n",
       "13 2024-08-04 14:58:56.150      2017852       0  Google Chrome       Default   \n",
       "14 2024-08-04 14:58:56.066      1064116       0  Google Chrome  Alphanumeric   \n",
       "15 2024-08-04 14:58:56.022      1108934       0  Google Chrome  Alphanumeric   \n",
       "16 2024-08-04 14:58:55.976      2316141       0  Google Chrome       Default   \n",
       "17 2024-08-04 14:58:55.879    221017560       0  Google Chrome  Alphanumeric   \n",
       "18 2024-08-04 14:58:46.670      2339849       0  Google Chrome       Default   \n",
       "19 2024-08-04 14:58:46.573      7572383       0  Google Chrome         Enter   \n",
       "\n",
       "   CAST(\"timestamp\" AS TIMESTAMP WITH TIME ZONE)  \\\n",
       "0               2024-08-04 14:58:56.972000+02:00   \n",
       "1               2024-08-04 14:58:56.920000+02:00   \n",
       "2               2024-08-04 14:58:56.876000+02:00   \n",
       "3               2024-08-04 14:58:56.856000+02:00   \n",
       "4               2024-08-04 14:58:56.792000+02:00   \n",
       "5               2024-08-04 14:58:56.781000+02:00   \n",
       "6               2024-08-04 14:58:56.673000+02:00   \n",
       "7               2024-08-04 14:58:56.585000+02:00   \n",
       "8               2024-08-04 14:58:56.486000+02:00   \n",
       "9               2024-08-04 14:58:56.393000+02:00   \n",
       "10              2024-08-04 14:58:56.291000+02:00   \n",
       "11              2024-08-04 14:58:56.220000+02:00   \n",
       "12              2024-08-04 14:58:56.186000+02:00   \n",
       "13              2024-08-04 14:58:56.150000+02:00   \n",
       "14              2024-08-04 14:58:56.066000+02:00   \n",
       "15              2024-08-04 14:58:56.022000+02:00   \n",
       "16              2024-08-04 14:58:55.976000+02:00   \n",
       "17              2024-08-04 14:58:55.879000+02:00   \n",
       "18              2024-08-04 14:58:46.670000+02:00   \n",
       "19              2024-08-04 14:58:46.573000+02:00   \n",
       "\n",
       "   timezone('Europe/Zurich', CAST(\"timestamp\" AS TIMESTAMP WITH TIME ZONE))  \n",
       "0                             2024-08-04 14:58:56.972                        \n",
       "1                             2024-08-04 14:58:56.920                        \n",
       "2                             2024-08-04 14:58:56.876                        \n",
       "3                             2024-08-04 14:58:56.856                        \n",
       "4                             2024-08-04 14:58:56.792                        \n",
       "5                             2024-08-04 14:58:56.781                        \n",
       "6                             2024-08-04 14:58:56.673                        \n",
       "7                             2024-08-04 14:58:56.585                        \n",
       "8                             2024-08-04 14:58:56.486                        \n",
       "9                             2024-08-04 14:58:56.393                        \n",
       "10                            2024-08-04 14:58:56.291                        \n",
       "11                            2024-08-04 14:58:56.220                        \n",
       "12                            2024-08-04 14:58:56.186                        \n",
       "13                            2024-08-04 14:58:56.150                        \n",
       "14                            2024-08-04 14:58:56.066                        \n",
       "15                            2024-08-04 14:58:56.022                        \n",
       "16                            2024-08-04 14:58:55.976                        \n",
       "17                            2024-08-04 14:58:55.879                        \n",
       "18                            2024-08-04 14:58:46.670                        \n",
       "19                            2024-08-04 14:58:46.573                        "
      ]
     },
     "execution_count": 78,
     "metadata": {},
     "output_type": "execute_result"
    }
   ],
   "source": [
    "duckdb.sql(\"\"\"\n",
    "    select \n",
    "        *,\n",
    "        timestamp::timestamptz,\n",
    "        timezone('Europe/Zurich', timestamp::timestamptz)\n",
    "    from \"/Users/fredericgessler/Documents/bootstrap/HotKey/data/*.csv\" \n",
    "    order by timestamp desc\n",
    "    limit 20\n",
    "    \n",
    "\"\"\").df()"
   ]
  },
  {
   "cell_type": "code",
   "execution_count": 63,
   "id": "42594cba-7b15-42e2-8a0c-41694b13c0a5",
   "metadata": {},
   "outputs": [
    {
     "ename": "BinderException",
     "evalue": "Binder Error: Referenced column \"interval\" not found in FROM clause!\nCandidate bindings: \"/Users/fredericgessler/Documents/bootstrap/HotKey/data/*.csv.Interval_ns\"",
     "output_type": "error",
     "traceback": [
      "\u001b[0;31m---------------------------------------------------------------------------\u001b[0m",
      "\u001b[0;31mBinderException\u001b[0m                           Traceback (most recent call last)",
      "Cell \u001b[0;32mIn[63], line 1\u001b[0m\n\u001b[0;32m----> 1\u001b[0m \u001b[43mduckdb\u001b[49m\u001b[38;5;241;43m.\u001b[39;49m\u001b[43msql\u001b[49m\u001b[43m(\u001b[49m\u001b[38;5;124;43m\"\"\"\u001b[39;49m\n\u001b[1;32m      2\u001b[0m \u001b[38;5;124;43m        select \u001b[39;49m\n\u001b[1;32m      3\u001b[0m \u001b[38;5;124;43m            max(interval) / 1e9,\u001b[39;49m\n\u001b[1;32m      4\u001b[0m \u001b[38;5;124;43m            min(current_timestamp - timestamp)\u001b[39;49m\n\u001b[1;32m      5\u001b[0m \u001b[38;5;124;43m    from \u001b[39;49m\u001b[38;5;124;43m\"\u001b[39;49m\u001b[38;5;124;43m/Users/fredericgessler/Documents/bootstrap/HotKey/data/*.csv\u001b[39;49m\u001b[38;5;124;43m\"\u001b[39;49m\u001b[38;5;124;43m \u001b[39;49m\n\u001b[1;32m      6\u001b[0m \u001b[38;5;124;43m    limit 20\u001b[39;49m\n\u001b[1;32m      7\u001b[0m \u001b[38;5;124;43m    \u001b[39;49m\n\u001b[1;32m      8\u001b[0m \u001b[38;5;124;43m\"\"\"\u001b[39;49m\u001b[43m)\u001b[49m\n",
      "File \u001b[0;32m~/Documents/bootstrap/hotkey-client/lab/.lab/lib/python3.9/site-packages/duckdb/__init__.py:457\u001b[0m, in \u001b[0;36msql\u001b[0;34m(query, **kwargs)\u001b[0m\n\u001b[1;32m    455\u001b[0m \u001b[38;5;28;01melse\u001b[39;00m:\n\u001b[1;32m    456\u001b[0m     conn \u001b[38;5;241m=\u001b[39m duckdb\u001b[38;5;241m.\u001b[39mconnect(\u001b[38;5;124m\"\u001b[39m\u001b[38;5;124m:default:\u001b[39m\u001b[38;5;124m\"\u001b[39m)\n\u001b[0;32m--> 457\u001b[0m \u001b[38;5;28;01mreturn\u001b[39;00m \u001b[43mconn\u001b[49m\u001b[38;5;241;43m.\u001b[39;49m\u001b[43msql\u001b[49m\u001b[43m(\u001b[49m\u001b[43mquery\u001b[49m\u001b[43m,\u001b[49m\u001b[43m \u001b[49m\u001b[38;5;241;43m*\u001b[39;49m\u001b[38;5;241;43m*\u001b[39;49m\u001b[43mkwargs\u001b[49m\u001b[43m)\u001b[49m\n",
      "\u001b[0;31mBinderException\u001b[0m: Binder Error: Referenced column \"interval\" not found in FROM clause!\nCandidate bindings: \"/Users/fredericgessler/Documents/bootstrap/HotKey/data/*.csv.Interval_ns\""
     ]
    }
   ],
   "source": [
    "duckdb.sql(\"\"\"\n",
    "        select \n",
    "            max(interval) / 1e9,\n",
    "            min(current_timestamp - timestamp)\n",
    "    from \"/Users/fredericgessler/Documents/bootstrap/HotKey/data/*.csv\" \n",
    "    limit 20\n",
    "    what time is it now. latest should update\n",
    "\"\"\")"
   ]
  },
  {
   "cell_type": "code",
   "execution_count": 23,
   "id": "75487d6b-ff81-437b-ad4a-5c9537eadca7",
   "metadata": {},
   "outputs": [
    {
     "ename": "ConversionException",
     "evalue": "Conversion Error: Type INT64 with value 1722593752000 can't be cast because the value is out of range for the destination type INT32",
     "output_type": "error",
     "traceback": [
      "\u001b[0;31m---------------------------------------------------------------------------\u001b[0m",
      "\u001b[0;31mConversionException\u001b[0m                       Traceback (most recent call last)",
      "File \u001b[0;32m~/Documents/bootstrap/hotkey-client/lab/.lab/lib/python3.9/site-packages/IPython/core/formatters.py:708\u001b[0m, in \u001b[0;36mPlainTextFormatter.__call__\u001b[0;34m(self, obj)\u001b[0m\n\u001b[1;32m    701\u001b[0m stream \u001b[38;5;241m=\u001b[39m StringIO()\n\u001b[1;32m    702\u001b[0m printer \u001b[38;5;241m=\u001b[39m pretty\u001b[38;5;241m.\u001b[39mRepresentationPrinter(stream, \u001b[38;5;28mself\u001b[39m\u001b[38;5;241m.\u001b[39mverbose,\n\u001b[1;32m    703\u001b[0m     \u001b[38;5;28mself\u001b[39m\u001b[38;5;241m.\u001b[39mmax_width, \u001b[38;5;28mself\u001b[39m\u001b[38;5;241m.\u001b[39mnewline,\n\u001b[1;32m    704\u001b[0m     max_seq_length\u001b[38;5;241m=\u001b[39m\u001b[38;5;28mself\u001b[39m\u001b[38;5;241m.\u001b[39mmax_seq_length,\n\u001b[1;32m    705\u001b[0m     singleton_pprinters\u001b[38;5;241m=\u001b[39m\u001b[38;5;28mself\u001b[39m\u001b[38;5;241m.\u001b[39msingleton_printers,\n\u001b[1;32m    706\u001b[0m     type_pprinters\u001b[38;5;241m=\u001b[39m\u001b[38;5;28mself\u001b[39m\u001b[38;5;241m.\u001b[39mtype_printers,\n\u001b[1;32m    707\u001b[0m     deferred_pprinters\u001b[38;5;241m=\u001b[39m\u001b[38;5;28mself\u001b[39m\u001b[38;5;241m.\u001b[39mdeferred_printers)\n\u001b[0;32m--> 708\u001b[0m \u001b[43mprinter\u001b[49m\u001b[38;5;241;43m.\u001b[39;49m\u001b[43mpretty\u001b[49m\u001b[43m(\u001b[49m\u001b[43mobj\u001b[49m\u001b[43m)\u001b[49m\n\u001b[1;32m    709\u001b[0m printer\u001b[38;5;241m.\u001b[39mflush()\n\u001b[1;32m    710\u001b[0m \u001b[38;5;28;01mreturn\u001b[39;00m stream\u001b[38;5;241m.\u001b[39mgetvalue()\n",
      "File \u001b[0;32m~/Documents/bootstrap/hotkey-client/lab/.lab/lib/python3.9/site-packages/IPython/lib/pretty.py:410\u001b[0m, in \u001b[0;36mRepresentationPrinter.pretty\u001b[0;34m(self, obj)\u001b[0m\n\u001b[1;32m    407\u001b[0m                         \u001b[38;5;28;01mreturn\u001b[39;00m meth(obj, \u001b[38;5;28mself\u001b[39m, cycle)\n\u001b[1;32m    408\u001b[0m                 \u001b[38;5;28;01mif\u001b[39;00m \u001b[38;5;28mcls\u001b[39m \u001b[38;5;129;01mis\u001b[39;00m \u001b[38;5;129;01mnot\u001b[39;00m \u001b[38;5;28mobject\u001b[39m \\\n\u001b[1;32m    409\u001b[0m                         \u001b[38;5;129;01mand\u001b[39;00m \u001b[38;5;28mcallable\u001b[39m(\u001b[38;5;28mcls\u001b[39m\u001b[38;5;241m.\u001b[39m\u001b[38;5;18m__dict__\u001b[39m\u001b[38;5;241m.\u001b[39mget(\u001b[38;5;124m'\u001b[39m\u001b[38;5;124m__repr__\u001b[39m\u001b[38;5;124m'\u001b[39m)):\n\u001b[0;32m--> 410\u001b[0m                     \u001b[38;5;28;01mreturn\u001b[39;00m \u001b[43m_repr_pprint\u001b[49m\u001b[43m(\u001b[49m\u001b[43mobj\u001b[49m\u001b[43m,\u001b[49m\u001b[43m \u001b[49m\u001b[38;5;28;43mself\u001b[39;49m\u001b[43m,\u001b[49m\u001b[43m \u001b[49m\u001b[43mcycle\u001b[49m\u001b[43m)\u001b[49m\n\u001b[1;32m    412\u001b[0m     \u001b[38;5;28;01mreturn\u001b[39;00m _default_pprint(obj, \u001b[38;5;28mself\u001b[39m, cycle)\n\u001b[1;32m    413\u001b[0m \u001b[38;5;28;01mfinally\u001b[39;00m:\n",
      "File \u001b[0;32m~/Documents/bootstrap/hotkey-client/lab/.lab/lib/python3.9/site-packages/IPython/lib/pretty.py:778\u001b[0m, in \u001b[0;36m_repr_pprint\u001b[0;34m(obj, p, cycle)\u001b[0m\n\u001b[1;32m    776\u001b[0m \u001b[38;5;250m\u001b[39m\u001b[38;5;124;03m\"\"\"A pprint that just redirects to the normal repr function.\"\"\"\u001b[39;00m\n\u001b[1;32m    777\u001b[0m \u001b[38;5;66;03m# Find newlines and replace them with p.break_()\u001b[39;00m\n\u001b[0;32m--> 778\u001b[0m output \u001b[38;5;241m=\u001b[39m \u001b[38;5;28;43mrepr\u001b[39;49m\u001b[43m(\u001b[49m\u001b[43mobj\u001b[49m\u001b[43m)\u001b[49m\n\u001b[1;32m    779\u001b[0m lines \u001b[38;5;241m=\u001b[39m output\u001b[38;5;241m.\u001b[39msplitlines()\n\u001b[1;32m    780\u001b[0m \u001b[38;5;28;01mwith\u001b[39;00m p\u001b[38;5;241m.\u001b[39mgroup():\n",
      "\u001b[0;31mConversionException\u001b[0m: Conversion Error: Type INT64 with value 1722593752000 can't be cast because the value is out of range for the destination type INT32"
     ]
    }
   ],
   "source": [
    "duckdb.sql(\"select epoch_ms((1722593752 * 1000)::int)\")"
   ]
  },
  {
   "cell_type": "code",
   "execution_count": 16,
   "id": "9d256b97-9cc2-4c26-b061-d6ab2480afd9",
   "metadata": {},
   "outputs": [
    {
     "ename": "SyntaxError",
     "evalue": "invalid syntax (2070495913.py, line 1)",
     "output_type": "error",
     "traceback": [
      "\u001b[0;36m  Cell \u001b[0;32mIn[16], line 1\u001b[0;36m\u001b[0m\n\u001b[0;31m    I refuse to believe that this is the only value present in the file\u001b[0m\n\u001b[0m      ^\u001b[0m\n\u001b[0;31mSyntaxError\u001b[0m\u001b[0;31m:\u001b[0m invalid syntax\n"
     ]
    }
   ],
   "source": [
    "I refuse to believe that this is the only value present in the file"
   ]
  },
  {
   "cell_type": "code",
   "execution_count": 30,
   "id": "d207ebf5-1314-467c-9138-10a485ae3c37",
   "metadata": {},
   "outputs": [
    {
     "data": {
      "text/plain": [
       "┌────────────────────────────────────────────────────────────────┐\n",
       "│ strptime('2024-08-04 12:33:08.123456', '%Y-%m-%d %H:%M:%S.%f') │\n",
       "│                           timestamp                            │\n",
       "├────────────────────────────────────────────────────────────────┤\n",
       "│ 2024-08-04 12:33:08.123456                                     │\n",
       "└────────────────────────────────────────────────────────────────┘"
      ]
     },
     "execution_count": 30,
     "metadata": {},
     "output_type": "execute_result"
    }
   ],
   "source": [
    "duckdb.sql(\"\"\"\n",
    "    select \n",
    "        STRPTIME(\n",
    "            '2024-08-04 12:33:08.123456', \n",
    "            '%Y-%m-%d %H:%M:%S.%f'\n",
    "        )\n",
    "        \n",
    "\"\"\")"
   ]
  },
  {
   "cell_type": "code",
   "execution_count": 35,
   "id": "c674d043-8978-4ad6-98a9-753196ca2db6",
   "metadata": {},
   "outputs": [
    {
     "data": {
      "text/plain": [
       "┌───────────────────────────────────────────────────────────────┐\n",
       "│ to_timestamp(CAST((144161734219833 / 1000000000) AS INTEGER)) │\n",
       "│                   timestamp with time zone                    │\n",
       "├───────────────────────────────────────────────────────────────┤\n",
       "│ 1970-01-02 17:02:42+01                                        │\n",
       "└───────────────────────────────────────────────────────────────┘"
      ]
     },
     "execution_count": 35,
     "metadata": {},
     "output_type": "execute_result"
    }
   ],
   "source": [
    "duckdb.sql(\"select to_timestamp((144161734219833 / 1000000000)::int)\")"
   ]
  },
  {
   "cell_type": "code",
   "execution_count": null,
   "id": "34cc64cb-4c1e-437f-b8ee-6ae2874159ca",
   "metadata": {},
   "outputs": [],
   "source": [
    "duckdb.sql(\"\"\"\n",
    "    select * \n",
    "    from \"\n",
    "\"\"\")"
   ]
  }
 ],
 "metadata": {
  "kernelspec": {
   "display_name": "Python 3 (ipykernel)",
   "language": "python",
   "name": "python3"
  },
  "language_info": {
   "codemirror_mode": {
    "name": "ipython",
    "version": 3
   },
   "file_extension": ".py",
   "mimetype": "text/x-python",
   "name": "python",
   "nbconvert_exporter": "python",
   "pygments_lexer": "ipython3",
   "version": "3.9.6"
  }
 },
 "nbformat": 4,
 "nbformat_minor": 5
}
