{
 "cells": [
  {
   "cell_type": "code",
   "execution_count": null,
   "id": "108e0666-3eec-4ba1-b255-06feaba1cd7a",
   "metadata": {},
   "outputs": [],
   "source": [
    "import pandas as pd\n",
    "import psycopg2 as ps\n",
    "import dotenv\n",
    "import os\n",
    "from datetime import datetime\n",
    "from uuid import uuid4\n",
    "str(datetime.now()), uuid4().hex"
   ]
  },
  {
   "cell_type": "code",
   "execution_count": null,
   "id": "99515ad7-5b06-4a7e-85dd-be2665d5a9c7",
   "metadata": {},
   "outputs": [],
   "source": [
    "C = ps.connect(\n",
    "    host=os.getenv(\"DB_HOST\").strip(),\n",
    "    port=os.getenv(\"DB_PORT\").strip(),\n",
    "    user=os.getenv(\"DB_USER\").strip(),\n",
    "    password=os.getenv(\"DB_PASSWORD\").strip(),\n",
    "    database=os.getenv(\"DB_NAME\").strip()\n",
    ")"
   ]
  },
  {
   "cell_type": "code",
   "execution_count": null,
   "id": "d4850cc5",
   "metadata": {},
   "outputs": [],
   "source": [
    "pd.read_sql_query(\"\"\"\n",
    "\n",
    "with keyevents as (\n",
    "    select \n",
    "        (regexp_matches(source_url, '^(?:https?:\\/\\/)?(?:[^@\\/\\n]+@)?([^:\\/\\n]+)', 'g'))[1] as url,\n",
    "        *\n",
    "    from keyevents\n",
    ")\n",
    "select \n",
    "    url, count(*) \n",
    "from keyevents\n",
    "group by url\n",
    "order by count(*) desc\n",
    "\"\"\", con=C)"
   ]
  },
  {
   "cell_type": "code",
   "execution_count": null,
   "id": "1050c964",
   "metadata": {},
   "outputs": [],
   "source": [
    "pd.read_sql_query(\"\"\"\n",
    "\n",
    "with keyevents as (\n",
    "    select \n",
    "        * \n",
    "    from keyevents limit 10\n",
    ")\n",
    "select \n",
    "    (regexp_matches(source_url, '^(?:https?:\\/\\/)?(?:[^@\\/\\n]+@)?([^:\\/\\n]+)', 'g'))[1]\n",
    "from keyevents\n",
    "\"\"\", con=C)"
   ]
  },
  {
   "cell_type": "code",
   "execution_count": null,
   "id": "11857e16-d6b6-4ca1-af37-04a975ef82a0",
   "metadata": {},
   "outputs": [],
   "source": [
    "pd.read_sql_query(\"\"\"\n",
    "\n",
    "select \n",
    "    * \n",
    "from keyevents \n",
    "where record_time > NOW() - INTERVAL '1 hour' \n",
    "limit 10\n",
    "\n",
    "\"\"\", con=C)"
   ]
  },
  {
   "cell_type": "code",
   "execution_count": null,
   "id": "585fc0ef",
   "metadata": {},
   "outputs": [],
   "source": [
    "pd.read_sql_query(\"\"\"\n",
    "\n",
    "with last_hour_events as (\n",
    "    select \n",
    "        * \n",
    "    from keyevents \n",
    "    where record_time > NOW() - INTERVAL '1 hour' \n",
    "), word_count as (\n",
    "    select \n",
    "        count(*) as word_count\n",
    "    from last_hour_events \n",
    "    where is_end_of_word is true or is_end_of_line is true \n",
    "),\n",
    "returns_count as (\n",
    "    select\n",
    "        count(*) as error_count\n",
    "    from last_hour_events\n",
    "    where is_return is true\n",
    "),\n",
    "total_count as (\n",
    "    select\n",
    "        count(*) as total_count\n",
    "    from last_hour_events\n",
    ")\n",
    "select \n",
    "    total_count,\n",
    "    error_count,\n",
    "    word_count\n",
    "from word_count, returns_count, total_count\n",
    "\n",
    "\"\"\", con=C)"
   ]
  },
  {
   "cell_type": "code",
   "execution_count": null,
   "id": "9f31b65f",
   "metadata": {},
   "outputs": [],
   "source": []
  }
 ],
 "metadata": {
  "kernelspec": {
   "display_name": "Python 3",
   "language": "python",
   "name": "python3"
  },
  "language_info": {
   "codemirror_mode": {
    "name": "ipython",
    "version": 3
   },
   "file_extension": ".py",
   "mimetype": "text/x-python",
   "name": "python",
   "nbconvert_exporter": "python",
   "pygments_lexer": "ipython3",
   "version": "3.10.4 (main, Nov 29 2022, 20:00:25) [GCC 9.4.0]"
  },
  "vscode": {
   "interpreter": {
    "hash": "3ad933181bd8a04b432d3370b9dc3b0662ad032c4dfaa4e4f1596c548f763858"
   }
  }
 },
 "nbformat": 4,
 "nbformat_minor": 5
}
